{
 "cells": [
  {
   "cell_type": "markdown",
   "id": "6100c224-c71b-4c91-bb3e-7f6aa17a6b3c",
   "metadata": {},
   "source": [
    "# Data Science Tools and Ecosystem"
   ]
  },
  {
   "cell_type": "markdown",
   "id": "0583f3e4-752b-4934-a52a-57f1f2d6847d",
   "metadata": {
    "tags": []
   },
   "source": [
    "In this notebook, Data Science Tools and Ecosystem are summarized"
   ]
  },
  {
   "cell_type": "markdown",
   "id": "b88e91e5-c1e1-4a88-8c2b-4c1840b32dfd",
   "metadata": {},
   "source": [
    "Objectives:\n",
    "- List popular languages for Data Science\n",
    "- List popular libraries for Data Science\n",
    "- Show a simple arithmetic expression\n",
    "- Make an unordered list like this\n",
    "- Create a table\n"
   ]
  },
  {
   "cell_type": "markdown",
   "id": "db744f52-49d2-479c-adf4-7f8da982381c",
   "metadata": {},
   "source": [
    "Some of the popular languages that Data Scientists use are:Python, R, SQL, Julia, Scala."
   ]
  },
  {
   "cell_type": "markdown",
   "id": "5351badf-1db1-4e60-8cb8-c1b2d477c8aa",
   "metadata": {},
   "source": [
    "Some of the commonly used libraries used by Data Scientists include: Pandas, NumPY, Keras, MatPlotLib, Scikit-Learn, Pytorch, Tensorflow.\n"
   ]
  },
  {
   "cell_type": "markdown",
   "id": "683f5c63-419b-4f35-9e73-4e644d2f8f2f",
   "metadata": {},
   "source": [
    "| Data Science Tools |\n",
    "----------------------\n",
    "| NumPy |\n",
    "| Pandas |\n",
    "| MatPlotLib |"
   ]
  },
  {
   "cell_type": "markdown",
   "id": "e9630c02-6479-4cce-bca6-05a1bbd9dd45",
   "metadata": {},
   "source": [
    "### Below are a few examples of evaluating arithmetic expressions in Python"
   ]
  },
  {
   "cell_type": "code",
   "execution_count": 4,
   "id": "f73c3cff-6bb3-4a5a-9aea-57fc0a18d039",
   "metadata": {
    "tags": []
   },
   "outputs": [
    {
     "data": {
      "text/plain": [
       "17"
      ]
     },
     "execution_count": 4,
     "metadata": {},
     "output_type": "execute_result"
    }
   ],
   "source": [
    "(3*4)+5\n",
    "#This a simple arithmetic expression to mutiply then add integers"
   ]
  },
  {
   "cell_type": "code",
   "execution_count": 6,
   "id": "7e551ddc-b946-4810-a781-cc589b12a3b1",
   "metadata": {
    "tags": []
   },
   "outputs": [
    {
     "data": {
      "text/plain": [
       "3"
      ]
     },
     "execution_count": 6,
     "metadata": {},
     "output_type": "execute_result"
    }
   ],
   "source": [
    "200//60\n",
    "#This will convert 200 minutes to hours by diving by 60"
   ]
  },
  {
   "cell_type": "markdown",
   "id": "03a76336-2776-4551-9686-58f87d69ada8",
   "metadata": {},
   "source": [
    "## Author\n",
    "Santiago Daleffe"
   ]
  },
  {
   "cell_type": "code",
   "execution_count": null,
   "id": "6f95980a-8849-4485-b2ba-b6ad11d73020",
   "metadata": {},
   "outputs": [],
   "source": []
  }
 ],
 "metadata": {
  "kernelspec": {
   "display_name": "Python 3 (ipykernel)",
   "language": "python",
   "name": "python3"
  },
  "language_info": {
   "codemirror_mode": {
    "name": "ipython",
    "version": 3
   },
   "file_extension": ".py",
   "mimetype": "text/x-python",
   "name": "python",
   "nbconvert_exporter": "python",
   "pygments_lexer": "ipython3",
   "version": "3.11.4"
  }
 },
 "nbformat": 4,
 "nbformat_minor": 5
}
